{
  "nbformat": 4,
  "nbformat_minor": 0,
  "metadata": {
    "colab": {
      "provenance": []
    },
    "kernelspec": {
      "name": "python3",
      "display_name": "Python 3"
    },
    "language_info": {
      "name": "python"
    }
  },
  "cells": [
    {
      "cell_type": "markdown",
      "source": [
        "\n",
        "Практика 1: Исследование атак на модели ИИ. Fast\n",
        "Gradient Sign Method (FGSM)\n",
        "\n",
        "Белов Владимир Станиславович ББМО-01-23\n",
        "\n",
        "**Цель задания:**\n",
        "Познакомиться с одной из популярных атак на системы машинного обучения — атакой Fast Gradient\n",
        "Sign Method (FGSM). Задача — научиться использовать FGSM для создания противоречивых (adversarial)\n",
        "примеров, которые могут ввести обученную модель в заблуждение\n",
        "\n",
        "**Задачи:**\n",
        "1. Загрузить ранее обученную модель на датасете MNIST.\n",
        "2. Изучить теоретические основы FGSM.\n",
        "3. Реализовать атаку FGSM и сгенерировать противоречивые примеры.\n",
        "4. Оценить точность модели на противоречивых примерах и сравнить с результатами на обычных\n",
        "данных.\n",
        "\n"
      ],
      "metadata": {
        "id": "heTG6mYReUX1"
      }
    },
    {
      "cell_type": "markdown",
      "source": [
        "**Шаг 1:** Загрузим обученные модели и данных MNIST\n",
        "из предыдущей практики для далшьнейшего анализа.\n"
      ],
      "metadata": {
        "id": "bLIjir1IeyKC"
      }
    },
    {
      "cell_type": "code",
      "execution_count": 12,
      "metadata": {
        "colab": {
          "base_uri": "https://localhost:8080/"
        },
        "id": "WJPRP94ueCxC",
        "outputId": "ecc748b7-726d-4a28-c6a4-c9d6e1757868"
      },
      "outputs": [
        {
          "output_type": "stream",
          "name": "stderr",
          "text": [
            "WARNING:absl:Compiled the loaded model, but the compiled metrics have yet to be built. `model.compile_metrics` will be empty until you train or evaluate the model.\n"
          ]
        },
        {
          "output_type": "stream",
          "name": "stdout",
          "text": [
            "\u001b[1m313/313\u001b[0m \u001b[32m━━━━━━━━━━━━━━━━━━━━\u001b[0m\u001b[37m\u001b[0m \u001b[1m1s\u001b[0m 1ms/step - accuracy: 0.9751 - loss: 0.0808\n",
            "Test accuracy on clean images: 0.9779999852180481\n"
          ]
        }
      ],
      "source": [
        "import tensorflow as tf\n",
        "from tensorflow.keras.datasets import mnist\n",
        "\n",
        "# Загрузка тестовых данных MNIST\n",
        "(_, _), (test_images, test_labels) = mnist.load_data()\n",
        "# Нормализация данных\n",
        "test_images = test_images / 255.0\n",
        "# Преобразование меток в формат one-hot\n",
        "test_labels = to_categorical(test_labels, num_classes=10)\n",
        "# Загрузка обученной модели\n",
        "model = tf.keras.models.load_model('mnist_model.h5')\n",
        "# Проверка точности модели на обычных данных\n",
        "test_loss, test_acc = model.evaluate(test_images, test_labels)\n",
        "print(f'Test accuracy on clean images: {test_acc}')\n"
      ]
    },
    {
      "cell_type": "markdown",
      "source": [
        "**Шаг 2:** Теория FGSM и реализация атаки FGSM.\n",
        "\n",
        "Атака Fast Gradient Sign Method (FGSM) — это метод генерации противоречивых примеров, который\n",
        "изменяет пиксели изображения на минимальные величины, направленные на ухудшение предсказаний\n",
        "модели. FGSM использует градиент потерь по отношению к входному изображению и добавляет\n",
        "небольшие изменения, чтобы максимизировать ошибку предсказания.\n",
        "![image.png](data:image/png;base64,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)\n",
        "\n",
        "Теперь реализуем FGSM для генерации противоречивых примеров."
      ],
      "metadata": {
        "id": "1qZmrBkBfMzX"
      }
    },
    {
      "cell_type": "code",
      "source": [
        "import numpy as np\n",
        "\n",
        "# Функция для реализации FGSM атаки\n",
        "def fgsm_attack(image, epsilon, gradient):\n",
        "  # Применение знака градиента к изображению\n",
        "  perturbed_image = image + epsilon * np.sign(gradient)\n",
        "  # Обрезка значений, чтобы они оставались в пределах [0,1]\n",
        "  perturbed_image = np.clip(perturbed_image, 0, 1)\n",
        "  return perturbed_image\n",
        "\n",
        "# Вычисление градиента\n",
        "def generate_adversarial_example(model, image, label, epsilon):\n",
        "    # Превращаем изображение в формат, подходящий для модели\n",
        "    image = tf.convert_to_tensor(image.reshape((1, 28, 28, 1)))\n",
        "    label = tf.convert_to_tensor(label)\n",
        "\n",
        "    with tf.GradientTape() as tape:\n",
        "        tape.watch(image)\n",
        "        prediction = model(image)\n",
        "        loss = tf.keras.losses.categorical_crossentropy(label[None], prediction)\n",
        "\n",
        "    # Получение градиента по отношению к входному изображению\n",
        "    gradient = tape.gradient(loss, image)\n",
        "    # Применение FGSM\n",
        "    adversarial_image = fgsm_attack(image.numpy(), epsilon, gradient.numpy())\n",
        "\n",
        "    return adversarial_image\n",
        "\n",
        "# Пример использования\n",
        "epsilon = 0.1  # Величина шума\n",
        "adversarial_example = generate_adversarial_example(model, test_images[0], test_labels[0], epsilon)\n",
        "\n",
        "# Вывод результатов\n",
        "import matplotlib.pyplot as plt\n",
        "\n",
        "plt.figure()\n",
        "plt.subplot(1, 2, 1)\n",
        "plt.title(\"Оригинальное изображение\")\n",
        "plt.imshow(test_images[0], cmap=\"gray\")\n",
        "plt.subplot(1, 2, 2)\n",
        "plt.title(\"Противоречивое изображение\")\n",
        "plt.imshow(adversarial_example.reshape(28, 28), cmap=\"gray\")\n",
        "plt.show()"
      ],
      "metadata": {
        "colab": {
          "base_uri": "https://localhost:8080/",
          "height": 308
        },
        "id": "f8mflCUpfVuM",
        "outputId": "6b1ebbe7-0761-4508-db25-1da7355d5876"
      },
      "execution_count": 19,
      "outputs": [
        {
          "output_type": "display_data",
          "data": {
            "text/plain": [
              "<Figure size 640x480 with 2 Axes>"
            ],
            "image/png": "[encoded data removed]"
          },
          "metadata": {}
        }
      ]
    },
    {
      "cell_type": "markdown",
      "source": [
        "**Шаг 3:** Оценка модели на противоречивых примерах.\n",
        "\n",
        "Теперь мы проверим точность модели на противоречивых изображениях, сгенерированных при\n",
        "помощи FGSM.\n"
      ],
      "metadata": {
        "id": "PvSLmB_UhlHs"
      }
    },
    {
      "cell_type": "code",
      "source": [
        "def generate_adversarial_dataset(model, images, labels, epsilon):\n",
        "    adversarial_images = []\n",
        "    for i in range(len(images)):\n",
        "        adv_image = generate_adversarial_example(model, images[i], labels[i], epsilon)\n",
        "        adversarial_images.append(adv_image.reshape(28, 28))\n",
        "    return np.array(adversarial_images)\n",
        "# Генерация противоречивых примеров\n",
        "adversarial_images = generate_adversarial_dataset(model, test_images, test_labels, epsilon)\n",
        "# Проверка размеров\n",
        "adversarial_loss, adversarial_acc = model.evaluate(adversarial_images, test_labels)\n",
        "print(f'Accuracy on a small subset of adversarial examples: {adversarial_acc}')\n",
        "\n"
      ],
      "metadata": {
        "colab": {
          "base_uri": "https://localhost:8080/"
        },
        "id": "wQwU3-wyhpGY",
        "outputId": "3f69c5a3-8f88-4034-fc51-ab4be24bdfe0"
      },
      "execution_count": 23,
      "outputs": [
        {
          "output_type": "stream",
          "name": "stdout",
          "text": [
            "\u001b[1m313/313\u001b[0m \u001b[32m━━━━━━━━━━━━━━━━━━━━\u001b[0m\u001b[37m\u001b[0m \u001b[1m1s\u001b[0m 2ms/step - accuracy: 0.0768 - loss: 7.1268\n",
            "Accuracy on a small subset of adversarial examples: 0.10119999945163727\n"
          ]
        }
      ]
    },
    {
      "cell_type": "markdown",
      "source": [
        "**Шаг 4:** Сравнение результатов.\n",
        "\n",
        "В ходе работы можно заметить, как точность на обычных примерах (~97,8%) опускается до ~10,1% на противоречивых. Данная работа показывает, что легко ввести модель в заблуждение."
      ],
      "metadata": {
        "id": "EU7k06W_iDdy"
      }
    }
  ]
}