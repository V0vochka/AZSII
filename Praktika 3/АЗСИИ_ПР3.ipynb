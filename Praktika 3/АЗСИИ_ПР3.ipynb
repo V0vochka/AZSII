{
  "nbformat": 4,
  "nbformat_minor": 0,
  "metadata": {
    "colab": {
      "provenance": []
    },
    "kernelspec": {
      "name": "python3",
      "display_name": "Python 3"
    },
    "language_info": {
      "name": "python"
    }
  },
  "cells": [
    {
      "cell_type": "markdown",
      "source": [
        "\n",
        "**Практика 3: Атака Carlini-Wagner (CW) на модели ИИ**\n",
        "\n",
        "Белов Владимир Станиславович ББМО-01-23\n",
        "\n",
        "**Цель задания:**\n",
        "Изучить одну из наиболее мощных атак на модели ИИ — атаку Carlini-Wagner (CW). Задача — научиться использовать CW для создания противоречивых примеров и исследовать влияние этой атаки на обученные модели\n",
        "\n",
        "**Задачи:**\n",
        " 1. Загрузить ранее обученную модель на датасете MNIST.\n",
        " 2. Изучить теоретические основы атаки Carlini-Wagner.\n",
        " 3. Реализовать атаку CW с помощью фреймворка Foolbox.\n",
        " 4. Оценить точность модели на противоречивых примерах и сравнить с результатами на обычных\n",
        " данных.\n",
        "\n"
      ],
      "metadata": {
        "id": "heTG6mYReUX1"
      }
    },
    {
      "cell_type": "markdown",
      "source": [
        "**Шаг 1:** Загрузим обученные модели и данных MNIST\n",
        "из предыдущей практики для дальнейшего анализа.\n"
      ],
      "metadata": {
        "id": "bLIjir1IeyKC"
      }
    },
    {
      "cell_type": "code",
      "execution_count": 6,
      "metadata": {
        "colab": {
          "base_uri": "https://localhost:8080/"
        },
        "id": "WJPRP94ueCxC",
        "outputId": "e4e93946-b6ba-4edb-fa1e-7354cf2505df"
      },
      "outputs": [
        {
          "output_type": "stream",
          "name": "stderr",
          "text": [
            "WARNING:absl:Compiled the loaded model, but the compiled metrics have yet to be built. `model.compile_metrics` will be empty until you train or evaluate the model.\n"
          ]
        },
        {
          "output_type": "stream",
          "name": "stdout",
          "text": [
            "\u001b[1m313/313\u001b[0m \u001b[32m━━━━━━━━━━━━━━━━━━━━\u001b[0m\u001b[37m\u001b[0m \u001b[1m1s\u001b[0m 1ms/step - accuracy: 0.9751 - loss: 0.0808\n",
            "Test accuracy on clean images: 0.9779999852180481\n"
          ]
        }
      ],
      "source": [
        "import tensorflow as tf\n",
        "from tensorflow.keras.datasets import mnist\n",
        "from tensorflow.keras.utils import to_categorical\n",
        "\n",
        "# Загрузка тестовых данных MNIST\n",
        "(_, _), (test_images, test_labels) = mnist.load_data()\n",
        "# Нормализация данных\n",
        "test_images = test_images / 255.0\n",
        "# Преобразование меток в формат one-hot\n",
        "test_labels = to_categorical(test_labels, num_classes=10)\n",
        "# Загрузка обученной модели\n",
        "model = tf.keras.models.load_model('/content/sample_data/mnist_model.h5')\n",
        "# Проверка точности модели на обычных данных\n",
        "test_loss, test_acc = model.evaluate(test_images, test_labels)\n",
        "print(f'Test accuracy on clean images: {test_acc}')\n"
      ]
    },
    {
      "cell_type": "markdown",
      "source": [
        "**Шаг 2:** Установка Foolbox и запуск CW-атаки\n",
        "\n",
        "Атака Carlini-Wagner (CW) — это одна из наиболее эффективных атак, созданных для введения моделей в заблуждение. Для реализации атаки Carlini-Wagner будем использовать фреймворк Foolbox, который\n",
        " предоставляет удобные методы для выполнения различных атак на модели ИИ"
      ],
      "metadata": {
        "id": "1qZmrBkBfMzX"
      }
    },
    {
      "cell_type": "code",
      "source": [
        "!  pip install foolbox"
      ],
      "metadata": {
        "colab": {
          "base_uri": "https://localhost:8080/"
        },
        "id": "f8mflCUpfVuM",
        "outputId": "9df536d8-fb6e-48cd-ae74-6838436c9ae4"
      },
      "execution_count": 7,
      "outputs": [
        {
          "output_type": "stream",
          "name": "stdout",
          "text": [
            "Collecting foolbox\n",
            "  Downloading foolbox-3.3.4-py3-none-any.whl.metadata (7.3 kB)\n",
            "Requirement already satisfied: numpy in /usr/local/lib/python3.10/dist-packages (from foolbox) (1.26.4)\n",
            "Requirement already satisfied: scipy in /usr/local/lib/python3.10/dist-packages (from foolbox) (1.13.1)\n",
            "Requirement already satisfied: setuptools in /usr/local/lib/python3.10/dist-packages (from foolbox) (75.1.0)\n",
            "Collecting eagerpy>=0.30.0 (from foolbox)\n",
            "  Downloading eagerpy-0.30.0-py3-none-any.whl.metadata (5.5 kB)\n",
            "Requirement already satisfied: GitPython>=3.0.7 in /usr/local/lib/python3.10/dist-packages (from foolbox) (3.1.43)\n",
            "Requirement already satisfied: typing-extensions>=3.7.4.1 in /usr/local/lib/python3.10/dist-packages (from foolbox) (4.12.2)\n",
            "Requirement already satisfied: requests>=2.24.0 in /usr/local/lib/python3.10/dist-packages (from foolbox) (2.32.3)\n",
            "Requirement already satisfied: gitdb<5,>=4.0.1 in /usr/local/lib/python3.10/dist-packages (from GitPython>=3.0.7->foolbox) (4.0.11)\n",
            "Requirement already satisfied: charset-normalizer<4,>=2 in /usr/local/lib/python3.10/dist-packages (from requests>=2.24.0->foolbox) (3.4.0)\n",
            "Requirement already satisfied: idna<4,>=2.5 in /usr/local/lib/python3.10/dist-packages (from requests>=2.24.0->foolbox) (3.10)\n",
            "Requirement already satisfied: urllib3<3,>=1.21.1 in /usr/local/lib/python3.10/dist-packages (from requests>=2.24.0->foolbox) (2.2.3)\n",
            "Requirement already satisfied: certifi>=2017.4.17 in /usr/local/lib/python3.10/dist-packages (from requests>=2.24.0->foolbox) (2024.8.30)\n",
            "Requirement already satisfied: smmap<6,>=3.0.1 in /usr/local/lib/python3.10/dist-packages (from gitdb<5,>=4.0.1->GitPython>=3.0.7->foolbox) (5.0.1)\n",
            "Downloading foolbox-3.3.4-py3-none-any.whl (1.7 MB)\n",
            "\u001b[2K   \u001b[90m━━━━━━━━━━━━━━━━━━━━━━━━━━━━━━━━━━━━━━━━\u001b[0m \u001b[32m1.7/1.7 MB\u001b[0m \u001b[31m16.0 MB/s\u001b[0m eta \u001b[36m0:00:00\u001b[0m\n",
            "\u001b[?25hDownloading eagerpy-0.30.0-py3-none-any.whl (31 kB)\n",
            "Installing collected packages: eagerpy, foolbox\n",
            "Successfully installed eagerpy-0.30.0 foolbox-3.3.4\n"
          ]
        }
      ]
    },
    {
      "cell_type": "markdown",
      "source": [
        "Реализация атаки Carlini-Wagner:\n"
      ],
      "metadata": {
        "id": "PvSLmB_UhlHs"
      }
    },
    {
      "cell_type": "code",
      "source": [
        "import foolbox as fb\n",
        "import numpy as np\n",
        "\n",
        "# Инициализация Foolbox модели\n",
        "fmodel = fb.TensorFlowModel(model, bounds=(0, 1))\n",
        "\n",
        "# Конвертация и выборка\n",
        "image = tf.convert_to_tensor(test_images[45], dtype=tf.float32)[None, ...]\n",
        "label = np.argmax(test_labels[0]) # Получаем индекс класса\n",
        "label = tf.convert_to_tensor(label, dtype=tf.int64) # Конвертируем в тензор\n",
        "\n",
        "# Создание и выполнение Carlini-Wagner атаки\n",
        "attack = fb.attacks.L2CarliniWagnerAttack(steps = 100)\n",
        "adversarial_image = attack(fmodel, image, label[None], epsilons=0.1)\n",
        "\n",
        "# Вывод результатов\n",
        "import matplotlib.pyplot as plt\n",
        "plt.subplot(1, 2, 1)\n",
        "plt.title(\"Оригинал\")\n",
        "plt.imshow(image[0].numpy(), cmap=\"gray\")\n",
        "plt.axis('off')\n",
        "plt.subplot(1, 2, 2)\n",
        "plt.title(\"CW Attack\")\n",
        "plt.imshow(adversarial_image[0][0].numpy(), cmap=\"gray\")\n",
        "plt.axis('off')\n",
        "plt.show()"
      ],
      "metadata": {
        "colab": {
          "base_uri": "https://localhost:8080/",
          "height": 284
        },
        "id": "wQwU3-wyhpGY",
        "outputId": "4b64c712-ade0-41bc-dd21-7950333f56ec"
      },
      "execution_count": 51,
      "outputs": [
        {
          "output_type": "display_data",
          "data": {
            "text/plain": [
              "<Figure size 640x480 with 2 Axes>"
            ],
            "image/png": "[encoded data removed]"
          },
          "metadata": {}
        }
      ]
    },
    {
      "cell_type": "markdown",
      "source": [
        "**Шаг 3:** Оценка модели на противоречивых примерах\n",
        "\n",
        "После того, как мы сгенерировали противоречивые примеры, мы можем оценить, насколько атака\n",
        " Carlini-Wagner влияет на производительность модели."
      ],
      "metadata": {
        "id": "pTLCvWNktdk1"
      }
    },
    {
      "cell_type": "code",
      "source": [
        "# Создание набора противоречивых примеров для всего тестового набора\n",
        "adversarial_images = []\n",
        "batch_size = 32\n",
        "\n",
        "# Обработка изображений пакетами\n",
        "for i in range(0, len(test_images) // 10, batch_size):\n",
        "\n",
        "    # Создаем пакет изображений и меток\n",
        "    batch_images = tf.convert_to_tensor(test_images[i:i + batch_size], dtype=tf.float32)\n",
        "    batch_labels = np.argmax(test_labels[i:i + batch_size], axis=1)\n",
        "    batch_labels = tf.convert_to_tensor(batch_labels, dtype=tf.int64)\n",
        "\n",
        "    # Проверка размерности\n",
        "    advs, _, success = attack(fmodel, batch_images, batch_labels, epsilons=0.1)\n",
        "    adversarial_images.append(advs)\n",
        "\n",
        "# Конвертация списка в массив с правильной формой\n",
        "adversarial_images = tf.concat(adversarial_images, axis=0)\n",
        "\n",
        "# Оценка точности модели на противоречивых примерах\n",
        "adversarial_loss, adversarial_acc = model.evaluate(adversarial_images, test_labels[:len(adversarial_images)])\n",
        "print(f'Accuracy on adversarial examples (CW attack): {adversarial_acc}')"
      ],
      "metadata": {
        "colab": {
          "base_uri": "https://localhost:8080/"
        },
        "id": "hMrGat-q0mfd",
        "outputId": "26bc3495-38d6-4b9e-f7aa-77cdabc0ad54"
      },
      "execution_count": 58,
      "outputs": [
        {
          "output_type": "stream",
          "name": "stdout",
          "text": [
            "\u001b[1m32/32\u001b[0m \u001b[32m━━━━━━━━━━━━━━━━━━━━\u001b[0m\u001b[37m\u001b[0m \u001b[1m0s\u001b[0m 1ms/step - accuracy: 0.0313 - loss: 1.1423 \n",
            "Accuracy on adversarial examples (CW attack): 0.025390625\n"
          ]
        }
      ]
    },
    {
      "cell_type": "markdown",
      "source": [
        "**Шаг 4:** Сравнение результатов.\n",
        "\n",
        "В ходе работы можно заметить, как точность на обычных примерах (~97,8%) опускается до ~2,5% на противоречивых. Данная работа показывает, что легко ввести модель в заблуждение."
      ],
      "metadata": {
        "id": "EU7k06W_iDdy"
      }
    }
  ]
}