{
  "nbformat": 4,
  "nbformat_minor": 0,
  "metadata": {
    "colab": {
      "provenance": []
    },
    "kernelspec": {
      "name": "python3",
      "display_name": "Python 3"
    },
    "language_info": {
      "name": "python"
    }
  },
  "cells": [
    {
      "cell_type": "markdown",
      "source": [
        "**Практика 8: Методы защиты от атак на модели ИИ**\n",
        "\n",
        "Белов Владимир Станиславович ББМО-01-23\n",
        "\n",
        "**Цель задания:**\n",
        "Изучить методы защиты моделей ИИ от различных атак, включая методы защиты на уровне данных, моделирования и обучения. Реализовать эти методы и проверить их эффективность против атак, изученных ранее\n",
        "\n",
        "**Задачи:**\n",
        "1. Изучить и реализовать защиту модели с помощью тренировок на противоречивых примерах\n",
        "(Adversarial Training).\n",
        "2. Реализовать метод защиты на основе градиентной маскировки.\n",
        "3. Использовать регуляризацию и нормализацию для повышения устойчивости модели.\n",
        "4. Проверить эффективность методов защиты против атак FGSM, PGD и GAN-based атак.\n",
        "5. Оценить улучшение точности защищенной модели на противоречивых примерах.\n"
      ],
      "metadata": {
        "id": "-QJ5RpWp5O0i"
      }
    },
    {
      "cell_type": "markdown",
      "source": [
        "**Шаг 1:** Защита с помощью Adversarial Training.\n",
        "\n",
        "Adversarial Training — это метод защиты, который заключается в том, чтобы обучать модель на\n",
        "противоречивых примерах. Этот метод помогает модели научиться быть более устойчивой к атакам,\n",
        "так как она сталкивается с противоречивыми примерами на этапе обучения."
      ],
      "metadata": {
        "id": "f0IcJ1pP5tSN"
      }
    },
    {
      "cell_type": "code",
      "execution_count": 3,
      "metadata": {
        "colab": {
          "base_uri": "https://localhost:8080/"
        },
        "id": "pW-21vvk5Loh",
        "outputId": "6fe03610-72d0-410f-8be4-600f831ce250"
      },
      "outputs": [
        {
          "output_type": "stream",
          "name": "stderr",
          "text": [
            "WARNING:absl:You are saving your model as an HDF5 file via `model.save()` or `keras.saving.save_model(model)`. This file format is considered legacy. We recommend using instead the native Keras format, e.g. `model.save('my_model.keras')` or `keras.saving.save_model(model, 'my_model.keras')`. \n"
          ]
        }
      ],
      "source": [
        "import tensorflow as tf\n",
        "import numpy as np\n",
        "from tensorflow.keras.datasets import mnist\n",
        "\n",
        "# Загрузка данных MNIST\n",
        "(train_images, train_labels), (test_images, test_labels) = mnist.load_data()\n",
        "\n",
        "# Нормализация данных\n",
        "train_images = train_images / 255.0\n",
        "test_images = test_images / 255.0\n",
        "\n",
        "# Преобразование меток в one-hot encoding\n",
        "train_labels = tf.keras.utils.to_categorical(train_labels, 10)\n",
        "test_labels = tf.keras.utils.to_categorical(test_labels, 10)\n",
        "# ОЗУ не хватает для обучения на всех ~60 тысяч изображениях, я взял 5 тысяч\n",
        "train_images = train_images[:5000]\n",
        "train_labels = train_labels[:5000]\n",
        "\n",
        "# Функция FGSM атаки\n",
        "def fgsm_attack(image, epsilon, gradient):\n",
        "    perturbation = epsilon * np.sign(gradient)\n",
        "    adversarial_image = image + perturbation\n",
        "    adversarial_image = np.clip(adversarial_image, 0, 1)\n",
        "    return adversarial_image\n",
        "\n",
        "# Функция для генерации противоречивых примеров\n",
        "def generate_adversarial_examples(model, images, labels, epsilon):\n",
        "    adversarial_images = []\n",
        "    for i in range(len(images)):\n",
        "        image = tf.convert_to_tensor(images[i].reshape((1, 28, 28, 1)), dtype=tf.float32) # Конвертирует размер под формат модели\n",
        "        label = tf.convert_to_tensor(labels[i].reshape((1, 10)), dtype=tf.float32) # Конвертируем one-hot вектор в индекс\n",
        "\n",
        "        with tf.GradientTape() as tape:\n",
        "            tape.watch(image)\n",
        "            prediction = model(image)\n",
        "            loss = tf.keras.losses.categorical_crossentropy(label, prediction)\n",
        "\n",
        "        gradient = tape.gradient(loss, image)\n",
        "        adversarial_image = fgsm_attack(image.numpy(), epsilon, gradient.numpy())\n",
        "        adversarial_images.append(adversarial_image.reshape(28, 28))\n",
        "\n",
        "    return np.array(adversarial_images)\n",
        "\n",
        "# Создание модели\n",
        "def create_model():\n",
        "    model = tf.keras.Sequential([\n",
        "        tf.keras.layers.Flatten(input_shape=(28, 28)),\n",
        "        tf.keras.layers.Dense(128, activation='relu'),\n",
        "        tf.keras.layers.Dense(10, activation='softmax')\n",
        "    ])\n",
        "    model.compile(optimizer='adam', loss='categorical_crossentropy', metrics=['accuracy'])\n",
        "    return model\n",
        "\n",
        "# Обучение модели с противоречивыми примерами\n",
        "def adversarial_training(model, train_images, train_labels, epsilon):\n",
        "    for epoch in range(5):  # Короткое обучение для демонстрации\n",
        "        for i in range(0, len(train_images), 32):\n",
        "            batch_images = train_images[i:i+32]\n",
        "            batch_labels = train_labels[i:i+32]\n",
        "            adversarial_images = generate_adversarial_examples(model, batch_images, batch_labels, epsilon)\n",
        "            combined_images = np.concatenate([batch_images, adversarial_images], axis=0)\n",
        "            combined_labels = np.concatenate([batch_labels, batch_labels], axis=0)\n",
        "            model.train_on_batch(combined_images, combined_labels)\n",
        "\n",
        "# Инициализация модели\n",
        "model = create_model()\n",
        "\n",
        "# Тренировка модели с защитой на противоречивых примерах\n",
        "adversarial_training(model, train_images, train_labels, epsilon=0.1)\n",
        "\n",
        "# Сохранение защищенной модели\n",
        "model.save('adversarial_trained_model.h5')"
      ]
    },
    {
      "cell_type": "markdown",
      "source": [
        "**Шаг 2**: Градиентная маскировка (Gradient Masking).\n",
        "\n",
        "Метод используется для уменьшения информации, доступной для атакующих, и усложнения поиска направленных изменений."
      ],
      "metadata": {
        "id": "NQPsDb59Fghc"
      }
    },
    {
      "cell_type": "code",
      "source": [
        "# Реализация градиентной маскировки\n",
        "from tensorflow.keras.layers import Activation\n",
        "\n",
        "# Обновление модели для градиентной маскировки\n",
        "def create_masked_model():\n",
        "    model = tf.keras.Sequential([\n",
        "        tf.keras.layers.Flatten(input_shape=(28, 28)),\n",
        "        tf.keras.layers.Dense(128, activation='relu'),\n",
        "        tf.keras.layers.Dense(10),\n",
        "        Activation('softplus')  # Используем softplus вместо softmax для градиентной маскировки для затруднения доступа атакам к градиентам модели\n",
        "    ])\n",
        "    model.compile(optimizer='adam', loss='categorical_crossentropy', metrics=['accuracy'])\n",
        "    return model\n",
        "\n",
        "# Обучение модели с градиентной маскировкой\n",
        "masked_model = create_masked_model()\n",
        "masked_model.fit(train_images, train_labels, epochs=5)\n",
        "\n",
        "# Сохранение модели с градиентной маскировкой\n",
        "masked_model.save('masked_model.h5')"
      ],
      "metadata": {
        "colab": {
          "base_uri": "https://localhost:8080/"
        },
        "id": "TLKfktOHMu8S",
        "outputId": "5932aef7-c368-4915-aa13-13d72009fecf"
      },
      "execution_count": 4,
      "outputs": [
        {
          "output_type": "stream",
          "name": "stdout",
          "text": [
            "Epoch 1/5\n",
            "\u001b[1m157/157\u001b[0m \u001b[32m━━━━━━━━━━━━━━━━━━━━\u001b[0m\u001b[37m\u001b[0m \u001b[1m1s\u001b[0m 3ms/step - accuracy: 0.6538 - loss: 1.2821\n",
            "Epoch 2/5\n",
            "\u001b[1m157/157\u001b[0m \u001b[32m━━━━━━━━━━━━━━━━━━━━\u001b[0m\u001b[37m\u001b[0m \u001b[1m1s\u001b[0m 3ms/step - accuracy: 0.9247 - loss: 0.2905\n",
            "Epoch 3/5\n",
            "\u001b[1m157/157\u001b[0m \u001b[32m━━━━━━━━━━━━━━━━━━━━\u001b[0m\u001b[37m\u001b[0m \u001b[1m0s\u001b[0m 2ms/step - accuracy: 0.9363 - loss: 0.2361\n",
            "Epoch 4/5\n",
            "\u001b[1m157/157\u001b[0m \u001b[32m━━━━━━━━━━━━━━━━━━━━\u001b[0m\u001b[37m\u001b[0m \u001b[1m0s\u001b[0m 2ms/step - accuracy: 0.9552 - loss: 0.1640\n",
            "Epoch 5/5\n",
            "\u001b[1m157/157\u001b[0m \u001b[32m━━━━━━━━━━━━━━━━━━━━\u001b[0m\u001b[37m\u001b[0m \u001b[1m0s\u001b[0m 3ms/step - accuracy: 0.9638 - loss: 0.1351\n"
          ]
        },
        {
          "output_type": "stream",
          "name": "stderr",
          "text": [
            "WARNING:absl:You are saving your model as an HDF5 file via `model.save()` or `keras.saving.save_model(model)`. This file format is considered legacy. We recommend using instead the native Keras format, e.g. `model.save('my_model.keras')` or `keras.saving.save_model(model, 'my_model.keras')`. \n"
          ]
        }
      ]
    },
    {
      "cell_type": "markdown",
      "source": [
        "**Шаг 3:** Регуляризация и нормализация для повышения устойчивости.\n",
        "\n",
        "Использование  L2-регуляризации, дропаут и нормализации батчей, может помочь\n",
        "улучшить устойчивость модели к атакам."
      ],
      "metadata": {
        "id": "kC3C63TbOIK7"
      }
    },
    {
      "cell_type": "code",
      "source": [
        "# Модель с регуляризацией и нормализацией\n",
        "def create_regularized_model():\n",
        "    model = tf.keras.Sequential([\n",
        "        tf.keras.layers.Flatten(input_shape=(28, 28)),\n",
        "        tf.keras.layers.Dense(128, activation='relu',\n",
        "        kernel_regularizer=tf.keras.regularizers.l2(0.01)),\n",
        "        tf.keras.layers.Dropout(0.5),\n",
        "        tf.keras.layers.BatchNormalization(),\n",
        "        tf.keras.layers.Dense(10, activation='softmax')\n",
        "    ])\n",
        "    model.compile(optimizer='adam', loss='categorical_crossentropy', metrics=['accuracy'])\n",
        "    return model\n",
        "\n",
        "# Обучение модели с регуляризацией и нормализацией\n",
        "regularized_model = create_regularized_model()\n",
        "regularized_model.fit(train_images, train_labels, epochs=5)\n",
        "\n",
        "# Сохранение модели с регуляризацией\n",
        "regularized_model.save('regularized_model.h5')"
      ],
      "metadata": {
        "colab": {
          "base_uri": "https://localhost:8080/"
        },
        "id": "u_Zf9yNlOH3J",
        "outputId": "20d0a1d5-e440-42cf-f5a1-7f46ca585b22"
      },
      "execution_count": 5,
      "outputs": [
        {
          "output_type": "stream",
          "name": "stdout",
          "text": [
            "Epoch 1/5\n",
            "\u001b[1m157/157\u001b[0m \u001b[32m━━━━━━━━━━━━━━━━━━━━\u001b[0m\u001b[37m\u001b[0m \u001b[1m2s\u001b[0m 3ms/step - accuracy: 0.5831 - loss: 2.8247\n",
            "Epoch 2/5\n",
            "\u001b[1m157/157\u001b[0m \u001b[32m━━━━━━━━━━━━━━━━━━━━\u001b[0m\u001b[37m\u001b[0m \u001b[1m0s\u001b[0m 3ms/step - accuracy: 0.8603 - loss: 1.2124\n",
            "Epoch 3/5\n",
            "\u001b[1m157/157\u001b[0m \u001b[32m━━━━━━━━━━━━━━━━━━━━\u001b[0m\u001b[37m\u001b[0m \u001b[1m1s\u001b[0m 3ms/step - accuracy: 0.8791 - loss: 0.9164\n",
            "Epoch 4/5\n",
            "\u001b[1m157/157\u001b[0m \u001b[32m━━━━━━━━━━━━━━━━━━━━\u001b[0m\u001b[37m\u001b[0m \u001b[1m1s\u001b[0m 3ms/step - accuracy: 0.8939 - loss: 0.7592\n",
            "Epoch 5/5\n",
            "\u001b[1m157/157\u001b[0m \u001b[32m━━━━━━━━━━━━━━━━━━━━\u001b[0m\u001b[37m\u001b[0m \u001b[1m0s\u001b[0m 3ms/step - accuracy: 0.8945 - loss: 0.6704\n"
          ]
        },
        {
          "output_type": "stream",
          "name": "stderr",
          "text": [
            "WARNING:absl:You are saving your model as an HDF5 file via `model.save()` or `keras.saving.save_model(model)`. This file format is considered legacy. We recommend using instead the native Keras format, e.g. `model.save('my_model.keras')` or `keras.saving.save_model(model, 'my_model.keras')`. \n"
          ]
        }
      ]
    },
    {
      "cell_type": "markdown",
      "source": [
        "**Шаг 4:** Оценка моделей на противоречивых примерах. Проверим эффективность всех защитных методов на атакованных данных, созданных с\n",
        "помощью FGSM и других методов, таких как PGD или GAN.\n"
      ],
      "metadata": {
        "id": "myEpHfzUOjtA"
      }
    },
    {
      "cell_type": "code",
      "source": [
        "# --- Оценка моделей на противоречивых примерах ---\n",
        "test_adversarial_images = generate_adversarial_examples(model, test_images, test_labels, epsilon=0.1)\n",
        "print(\"Оценка моделей на противоречивых примерах:\")\n",
        "\n",
        "print(\"Точность обученной модели:\")\n",
        "adv_model = tf.keras.models.load_model('/content/adversarial_trained_model.h5')\n",
        "adv_model.evaluate(test_adversarial_images, test_labels)\n",
        "\n",
        "print(\"Точность модели с градиетной маскировкой:\")\n",
        "masked_model = tf.keras.models.load_model('/content/masked_model.h5')\n",
        "masked_model.evaluate(test_adversarial_images, test_labels)\n",
        "\n",
        "print(\"Точность модели с регуляризацией и нормализацией:\")\n",
        "regularized_model = tf.keras.models.load_model('/content/regularized_model.h5')\n",
        "regularized_model.evaluate(test_adversarial_images, test_labels)"
      ],
      "metadata": {
        "colab": {
          "base_uri": "https://localhost:8080/"
        },
        "id": "4szE8l0ROj7x",
        "outputId": "18a3b234-8bd9-4958-dda4-023adef8fd5a"
      },
      "execution_count": 12,
      "outputs": [
        {
          "output_type": "stream",
          "name": "stderr",
          "text": [
            "WARNING:absl:Compiled the loaded model, but the compiled metrics have yet to be built. `model.compile_metrics` will be empty until you train or evaluate the model.\n"
          ]
        },
        {
          "output_type": "stream",
          "name": "stdout",
          "text": [
            "Оценка моделей на противоречивых примерах:\n",
            "Точность обученной модели:\n",
            "\u001b[1m313/313\u001b[0m \u001b[32m━━━━━━━━━━━━━━━━━━━━\u001b[0m\u001b[37m\u001b[0m \u001b[1m1s\u001b[0m 1ms/step - accuracy: 0.6922 - loss: 0.9209\n",
            "Точность модели с градиетной маскировкой:\n"
          ]
        },
        {
          "output_type": "stream",
          "name": "stderr",
          "text": [
            "WARNING:absl:Compiled the loaded model, but the compiled metrics have yet to be built. `model.compile_metrics` will be empty until you train or evaluate the model.\n"
          ]
        },
        {
          "output_type": "stream",
          "name": "stdout",
          "text": [
            "\u001b[1m313/313\u001b[0m \u001b[32m━━━━━━━━━━━━━━━━━━━━\u001b[0m\u001b[37m\u001b[0m \u001b[1m1s\u001b[0m 1ms/step - accuracy: 0.4990 - loss: 1.6652\n",
            "Точность модели с регуляризацией и нормализацией:\n"
          ]
        },
        {
          "output_type": "stream",
          "name": "stderr",
          "text": [
            "WARNING:absl:Compiled the loaded model, but the compiled metrics have yet to be built. `model.compile_metrics` will be empty until you train or evaluate the model.\n"
          ]
        },
        {
          "output_type": "stream",
          "name": "stdout",
          "text": [
            "\u001b[1m313/313\u001b[0m \u001b[32m━━━━━━━━━━━━━━━━━━━━\u001b[0m\u001b[37m\u001b[0m \u001b[1m1s\u001b[0m 1ms/step - accuracy: 0.6173 - loss: 1.4242\n"
          ]
        },
        {
          "output_type": "execute_result",
          "data": {
            "text/plain": [
              "[1.3013962507247925, 0.6583999991416931]"
            ]
          },
          "metadata": {},
          "execution_count": 12
        }
      ]
    },
    {
      "cell_type": "markdown",
      "source": [
        "**Вывод:**\n",
        "\n",
        "В работе мы рассмотрели методы защиты от атак.\n",
        "\n",
        "1) Обученная модель на противоречивых примерах показала лучший результат в работе (69.2% точности).\n",
        "\n",
        "2) Модель с градиентой маскировкой показа меньшую точность, по сравнению с другими методами (~50% точности).\n",
        "\n",
        "3) Модель с регуляцией и нормализацией показала результат в 61.7% точности.\n",
        "\n",
        "Данные методы действительно увеличили точность моделей, по сравнению с чистыми, которые были расмотрены во 2-й практической работе, однако помогли примерно на 50-60% сохранить точность т.е. модели всё еще уязвимы.\n",
        "\n"
      ],
      "metadata": {
        "id": "fd2KUggpS9Qf"
      }
    }
  ]
}